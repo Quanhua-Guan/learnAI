{
 "cells": [
  {
   "cell_type": "code",
   "execution_count": null,
   "metadata": {},
   "outputs": [],
   "source": [
    "import numpy as np\n",
    "\n",
    "def get_beans(counts):\n",
    "    xs = np.random.rand(counts)\n",
    "    xs = np.sort(xs)\n",
    "    ys = [1.2*x+np.random.rand()/10 for x in xs]\n",
    "    return xs,ys"
   ]
  },
  {
   "cell_type": "code",
   "execution_count": null,
   "metadata": {},
   "outputs": [],
   "source": [
    "xs,ys = get_beans(100)"
   ]
  },
  {
   "cell_type": "code",
   "execution_count": null,
   "metadata": {},
   "outputs": [],
   "source": [
    "from matplotlib import pyplot as plt\n",
    "\n",
    "plt.title(\"Size-Toxicity Function\", fontsize=12)\n",
    "plt.xlabel(\"Bean Size\")\n",
    "plt.ylabel(\"Toxicity\")\n",
    "\n",
    "plt.scatter(xs, ys)\n",
    "plt.show()"
   ]
  },
  {
   "cell_type": "code",
   "execution_count": 8,
   "metadata": {},
   "outputs": [],
   "source": [
    "#!pip install numpy"
   ]
  },
  {
   "cell_type": "code",
   "execution_count": 9,
   "metadata": {},
   "outputs": [
    {
     "data": {
      "image/png": "[encoded data removed]",
      "text/plain": [
       "<Figure size 432x288 with 1 Axes>"
      ]
     },
     "metadata": {
      "needs_background": "light"
     },
     "output_type": "display_data"
    }
   ],
   "source": [
    "w = 1.2827209903409331#0.1\n",
    "\n",
    "y_pre = w * xs\n",
    "plt.scatter(xs, ys)\n",
    "plt.plot(xs, y_pre)\n",
    "plt.show()"
   ]
  },
  {
   "cell_type": "code",
   "execution_count": 10,
   "metadata": {},
   "outputs": [
    {
     "name": "stdout",
     "output_type": "stream",
     "text": [
      "0.0012901841665161893\n"
     ]
    }
   ],
   "source": [
    "es = (ys - y_pre)**2\n",
    "sum_e = np.sum(es)\n",
    "sum_e = 1/len(xs)*sum_e\n",
    "print(sum_e)"
   ]
  },
  {
   "cell_type": "code",
   "execution_count": 11,
   "metadata": {},
   "outputs": [
    {
     "name": "stdout",
     "output_type": "stream",
     "text": [
      "[0.  0.1 0.2 0.3 0.4 0.5 0.6 0.7 0.8 0.9 1.  1.1 1.2 1.3 1.4 1.5 1.6 1.7\n",
      " 1.8 1.9 2.  2.1 2.2 2.3 2.4 2.5 2.6 2.7 2.8 2.9]\n"
     ]
    }
   ],
   "source": [
    "ws = np.arange(0,3,0.1)\n",
    "print(ws)"
   ]
  },
  {
   "cell_type": "code",
   "execution_count": 12,
   "metadata": {},
   "outputs": [
    {
     "data": {
      "image/png": "[encoded data removed]",
      "text/plain": [
       "<Figure size 432x288 with 1 Axes>"
      ]
     },
     "metadata": {
      "needs_background": "light"
     },
     "output_type": "display_data"
    },
    {
     "name": "stdout",
     "output_type": "stream",
     "text": [
      "1.278417417051855\n"
     ]
    }
   ],
   "source": [
    "es = []\n",
    "m = len(xs)\n",
    "for w in ws:\n",
    "    y_pre = w * xs\n",
    "    e = (1/m) * np.sum((ys - y_pre)**2)\n",
    "    es.append(e)\n",
    "    \n",
    "plt.title(\"cost function\", fontsize=12)\n",
    "plt.xlabel(\"w\")\n",
    "plt.ylabel(\"e\")\n",
    "plt.plot(ws, es)\n",
    "plt.show()\n",
    "\n",
    "w_min = np.sum(xs * ys) / np.sum(xs * xs)\n",
    "print(w_min)"
   ]
  },
  {
   "cell_type": "code",
   "execution_count": null,
   "metadata": {},
   "outputs": [],
   "source": [
    "#lesson3 随机梯度下降\n",
    "# e = x^2*w^2 + (-2xy)*w +ｙ\n",
    "w = 0.1\n",
    "size = len(xs)\n",
    "for t in range(100):\n",
    "    for i in range(size):\n",
    "        x = xs[i]\n",
    "        y = ys[i]\n",
    "\n",
    "        #a=x^2\n",
    "        #b=-2*x*y\n",
    "        #c=y^2\n",
    "        #斜率 k=2*a*w+b\n",
    "        k = 2*(x**2)*w + (-2*x*y)\n",
    "\n",
    "        # 更新w\n",
    "        alpha = 0.1\n",
    "        w = w - alpha*k # 每次通过减去斜率进行权值w的调整.\n",
    "        \n",
    "#         plt.clf()\n",
    "#         plt.scatter(xs,ys)\n",
    "#         y_pre = w*xs\n",
    "#         plt.xlim(0,1)\n",
    "#         plt.ylim(0,1.2)\n",
    "#         plt.plot(xs,y_pre)\n",
    "#         plt.pause(0.01)\n",
    "\n",
    "# 重新绘制散点图和预测曲线\n",
    "plt.scatter(xs, ys)\n",
    "y_pre = w * xs\n",
    "plt.plot(xs, y_pre)\n",
    "plt.show()\n",
    "        \n",
    "    "
   ]
  },
  {
   "cell_type": "code",
   "execution_count": null,
   "metadata": {},
   "outputs": [],
   "source": []
  }
 ],
 "metadata": {
  "anaconda-cloud": {},
  "kernelspec": {
   "display_name": "venv",
   "language": "python",
   "name": "venv"
  },
  "language_info": {
   "codemirror_mode": {
    "name": "ipython",
    "version": 3
   },
   "file_extension": ".py",
   "mimetype": "text/x-python",
   "name": "python",
   "nbconvert_exporter": "python",
   "pygments_lexer": "ipython3",
   "version": "3.10.5"
  }
 },
 "nbformat": 4,
 "nbformat_minor": 1
}
